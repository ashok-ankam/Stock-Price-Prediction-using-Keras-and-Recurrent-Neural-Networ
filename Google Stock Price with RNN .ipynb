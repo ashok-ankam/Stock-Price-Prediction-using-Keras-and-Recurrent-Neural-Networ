{
 "cells": [
  {
   "cell_type": "markdown",
   "metadata": {},
   "source": [
    "  # Recurrent Neural Network </center></h1>"
   ]
  },
  {
   "cell_type": "markdown",
   "metadata": {},
   "source": [
    "## Part 1 - Data Preprocessing"
   ]
  },
  {
   "cell_type": "markdown",
   "metadata": {},
   "source": [
    "### Importing the libraries"
   ]
  },
  {
   "cell_type": "code",
   "execution_count": 1,
   "metadata": {},
   "outputs": [],
   "source": [
    "\n",
    "import numpy as np\n",
    "import matplotlib.pyplot as plt\n",
    "import pandas as pd"
   ]
  },
  {
   "cell_type": "markdown",
   "metadata": {},
   "source": [
    "### Importing the training set"
   ]
  },
  {
   "cell_type": "code",
   "execution_count": 2,
   "metadata": {},
   "outputs": [],
   "source": [
    "\n",
    "dataset_train = pd.read_csv('Google_Stock_Price_Train.csv')\n",
    "training_set = dataset_train.iloc[:, 1:2].values"
   ]
  },
  {
   "cell_type": "code",
   "execution_count": 3,
   "metadata": {
    "scrolled": true
   },
   "outputs": [
    {
     "data": {
      "text/html": [
       "<div>\n",
       "<style scoped>\n",
       "    .dataframe tbody tr th:only-of-type {\n",
       "        vertical-align: middle;\n",
       "    }\n",
       "\n",
       "    .dataframe tbody tr th {\n",
       "        vertical-align: top;\n",
       "    }\n",
       "\n",
       "    .dataframe thead th {\n",
       "        text-align: right;\n",
       "    }\n",
       "</style>\n",
       "<table border=\"1\" class=\"dataframe\">\n",
       "  <thead>\n",
       "    <tr style=\"text-align: right;\">\n",
       "      <th></th>\n",
       "      <th>Date</th>\n",
       "      <th>Open</th>\n",
       "      <th>High</th>\n",
       "      <th>Low</th>\n",
       "      <th>Close</th>\n",
       "      <th>Volume</th>\n",
       "    </tr>\n",
       "  </thead>\n",
       "  <tbody>\n",
       "    <tr>\n",
       "      <th>0</th>\n",
       "      <td>1/3/2012</td>\n",
       "      <td>325.25</td>\n",
       "      <td>332.83</td>\n",
       "      <td>324.97</td>\n",
       "      <td>663.59</td>\n",
       "      <td>7,380,500</td>\n",
       "    </tr>\n",
       "    <tr>\n",
       "      <th>1</th>\n",
       "      <td>1/4/2012</td>\n",
       "      <td>331.27</td>\n",
       "      <td>333.87</td>\n",
       "      <td>329.08</td>\n",
       "      <td>666.45</td>\n",
       "      <td>5,749,400</td>\n",
       "    </tr>\n",
       "    <tr>\n",
       "      <th>2</th>\n",
       "      <td>1/5/2012</td>\n",
       "      <td>329.83</td>\n",
       "      <td>330.75</td>\n",
       "      <td>326.89</td>\n",
       "      <td>657.21</td>\n",
       "      <td>6,590,300</td>\n",
       "    </tr>\n",
       "    <tr>\n",
       "      <th>3</th>\n",
       "      <td>1/6/2012</td>\n",
       "      <td>328.34</td>\n",
       "      <td>328.77</td>\n",
       "      <td>323.68</td>\n",
       "      <td>648.24</td>\n",
       "      <td>5,405,900</td>\n",
       "    </tr>\n",
       "    <tr>\n",
       "      <th>4</th>\n",
       "      <td>1/9/2012</td>\n",
       "      <td>322.04</td>\n",
       "      <td>322.29</td>\n",
       "      <td>309.46</td>\n",
       "      <td>620.76</td>\n",
       "      <td>11,688,800</td>\n",
       "    </tr>\n",
       "  </tbody>\n",
       "</table>\n",
       "</div>"
      ],
      "text/plain": [
       "       Date    Open    High     Low   Close      Volume\n",
       "0  1/3/2012  325.25  332.83  324.97  663.59   7,380,500\n",
       "1  1/4/2012  331.27  333.87  329.08  666.45   5,749,400\n",
       "2  1/5/2012  329.83  330.75  326.89  657.21   6,590,300\n",
       "3  1/6/2012  328.34  328.77  323.68  648.24   5,405,900\n",
       "4  1/9/2012  322.04  322.29  309.46  620.76  11,688,800"
      ]
     },
     "execution_count": 3,
     "metadata": {},
     "output_type": "execute_result"
    }
   ],
   "source": [
    "dataset_train.head()"
   ]
  },
  {
   "cell_type": "markdown",
   "metadata": {},
   "source": [
    "## Feature Scaling"
   ]
  },
  {
   "cell_type": "code",
   "execution_count": 4,
   "metadata": {},
   "outputs": [],
   "source": [
    "from sklearn.preprocessing import MinMaxScaler\n",
    "sc = MinMaxScaler(feature_range = (0, 1))\n",
    "training_set_scaled = sc.fit_transform(training_set)"
   ]
  },
  {
   "cell_type": "markdown",
   "metadata": {},
   "source": [
    "## Creating a data structure with 60 timesteps and 1 output"
   ]
  },
  {
   "cell_type": "code",
   "execution_count": 5,
   "metadata": {},
   "outputs": [],
   "source": [
    "X_train = []\n",
    "y_train = []\n",
    "for i in range(60, 1258):\n",
    "    X_train.append(training_set_scaled[i-60:i, 0])\n",
    "    y_train.append(training_set_scaled[i, 0])\n",
    "X_train, y_train = np.array(X_train), np.array(y_train)"
   ]
  },
  {
   "cell_type": "markdown",
   "metadata": {},
   "source": [
    "### Reshaping"
   ]
  },
  {
   "cell_type": "code",
   "execution_count": 6,
   "metadata": {},
   "outputs": [],
   "source": [
    "X_train = np.reshape(X_train, (X_train.shape[0], X_train.shape[1], 1))"
   ]
  },
  {
   "cell_type": "markdown",
   "metadata": {},
   "source": [
    "\n",
    "# Part 2 - Building the RNN\n",
    "\n"
   ]
  },
  {
   "cell_type": "markdown",
   "metadata": {},
   "source": [
    "### Importing the Keras libraries and packages"
   ]
  },
  {
   "cell_type": "code",
   "execution_count": 7,
   "metadata": {},
   "outputs": [
    {
     "name": "stderr",
     "output_type": "stream",
     "text": [
      "Using TensorFlow backend.\n"
     ]
    }
   ],
   "source": [
    "from keras.models import Sequential\n",
    "from keras.layers import Dense\n",
    "from keras.layers import LSTM\n",
    "from keras.layers import Dropout"
   ]
  },
  {
   "cell_type": "markdown",
   "metadata": {},
   "source": [
    "### Initialising the RNN\n"
   ]
  },
  {
   "cell_type": "code",
   "execution_count": 8,
   "metadata": {},
   "outputs": [],
   "source": [
    "regressor = Sequential()"
   ]
  },
  {
   "cell_type": "markdown",
   "metadata": {},
   "source": [
    "### Adding the first LSTM layer and some Dropout regularisation"
   ]
  },
  {
   "cell_type": "code",
   "execution_count": 9,
   "metadata": {},
   "outputs": [
    {
     "name": "stdout",
     "output_type": "stream",
     "text": [
      "WARNING:tensorflow:From C:\\Users\\kartik\\Anaconda3\\lib\\site-packages\\tensorflow\\python\\framework\\op_def_library.py:263: colocate_with (from tensorflow.python.framework.ops) is deprecated and will be removed in a future version.\n",
      "Instructions for updating:\n",
      "Colocations handled automatically by placer.\n",
      "WARNING:tensorflow:From C:\\Users\\kartik\\Anaconda3\\lib\\site-packages\\keras\\backend\\tensorflow_backend.py:3445: calling dropout (from tensorflow.python.ops.nn_ops) with keep_prob is deprecated and will be removed in a future version.\n",
      "Instructions for updating:\n",
      "Please use `rate` instead of `keep_prob`. Rate should be set to `rate = 1 - keep_prob`.\n"
     ]
    }
   ],
   "source": [
    "regressor.add(LSTM(units = 50, return_sequences = True, input_shape = (X_train.shape[1], 1)))\n",
    "regressor.add(Dropout(0.2))\n"
   ]
  },
  {
   "cell_type": "markdown",
   "metadata": {},
   "source": [
    "### Adding a second LSTM layer and some Dropout regularisation"
   ]
  },
  {
   "cell_type": "code",
   "execution_count": 10,
   "metadata": {},
   "outputs": [],
   "source": [
    "regressor.add(LSTM(units = 50, return_sequences = True))\n",
    "regressor.add(Dropout(0.2))"
   ]
  },
  {
   "cell_type": "markdown",
   "metadata": {},
   "source": [
    "### Adding a third LSTM layer and some Dropout regularisation"
   ]
  },
  {
   "cell_type": "code",
   "execution_count": 11,
   "metadata": {},
   "outputs": [],
   "source": [
    "regressor.add(LSTM(units = 50, return_sequences = True))\n",
    "regressor.add(Dropout(0.2))"
   ]
  },
  {
   "cell_type": "markdown",
   "metadata": {},
   "source": [
    "### Adding a fourth LSTM layer and some Dropout regularisation"
   ]
  },
  {
   "cell_type": "code",
   "execution_count": 12,
   "metadata": {},
   "outputs": [],
   "source": [
    "regressor.add(LSTM(units = 50))\n",
    "regressor.add(Dropout(0.2))"
   ]
  },
  {
   "cell_type": "markdown",
   "metadata": {},
   "source": [
    "### Adding the output layer"
   ]
  },
  {
   "cell_type": "code",
   "execution_count": 13,
   "metadata": {},
   "outputs": [],
   "source": [
    "regressor.add(Dense(units = 1))\n"
   ]
  },
  {
   "cell_type": "markdown",
   "metadata": {},
   "source": [
    "### Compiling the RNN"
   ]
  },
  {
   "cell_type": "code",
   "execution_count": 14,
   "metadata": {},
   "outputs": [],
   "source": [
    "regressor.compile(optimizer = 'adam', loss = 'mean_squared_error')"
   ]
  },
  {
   "cell_type": "markdown",
   "metadata": {},
   "source": [
    "### Fitting the RNN to the Training set"
   ]
  },
  {
   "cell_type": "code",
   "execution_count": 15,
   "metadata": {},
   "outputs": [
    {
     "name": "stdout",
     "output_type": "stream",
     "text": [
      "WARNING:tensorflow:From C:\\Users\\kartik\\Anaconda3\\lib\\site-packages\\tensorflow\\python\\ops\\math_ops.py:3066: to_int32 (from tensorflow.python.ops.math_ops) is deprecated and will be removed in a future version.\n",
      "Instructions for updating:\n",
      "Use tf.cast instead.\n",
      "Epoch 1/50\n",
      "1198/1198 [==============================] - 14s 12ms/step - loss: 0.0536\n",
      "Epoch 2/50\n",
      "1198/1198 [==============================] - 7s 6ms/step - loss: 0.0069\n",
      "Epoch 3/50\n",
      "1198/1198 [==============================] - 7s 6ms/step - loss: 0.0058A: 2s\n",
      "Epoch 4/50\n",
      "1198/1198 [==============================] - 7s 6ms/step - loss: 0.0051\n",
      "Epoch 5/50\n",
      "1198/1198 [==============================] - 7s 6ms/step - loss: 0.0049\n",
      "Epoch 6/50\n",
      "1198/1198 [==============================] - 7s 6ms/step - loss: 0.0050\n",
      "Epoch 7/50\n",
      "1198/1198 [==============================] - 7s 6ms/step - loss: 0.0046\n",
      "Epoch 8/50\n",
      "1198/1198 [==============================] - 7s 6ms/step - loss: 0.0052\n",
      "Epoch 9/50\n",
      "1198/1198 [==============================] - 7s 6ms/step - loss: 0.0045\n",
      "Epoch 10/50\n",
      "1198/1198 [==============================] - 7s 6ms/step - loss: 0.0040\n",
      "Epoch 11/50\n",
      "1198/1198 [==============================] - 7s 6ms/step - loss: 0.0045A: 2s\n",
      "Epoch 12/50\n",
      "1198/1198 [==============================] - 7s 6ms/step - loss: 0.0044\n",
      "Epoch 13/50\n",
      "1198/1198 [==============================] - 7s 6ms/step - loss: 0.0044\n",
      "Epoch 14/50\n",
      "1198/1198 [==============================] - 7s 6ms/step - loss: 0.0038\n",
      "Epoch 15/50\n",
      "1198/1198 [==============================] - 7s 6ms/step - loss: 0.0037\n",
      "Epoch 16/50\n",
      "1198/1198 [==============================] - 7s 6ms/step - loss: 0.0038\n",
      "Epoch 17/50\n",
      "1198/1198 [==============================] - 7s 6ms/step - loss: 0.0045A: 0s - loss: 0\n",
      "Epoch 18/50\n",
      "1198/1198 [==============================] - 7s 6ms/step - loss: 0.0036\n",
      "Epoch 19/50\n",
      "1198/1198 [==============================] - 7s 6ms/step - loss: 0.0036\n",
      "Epoch 20/50\n",
      "1198/1198 [==============================] - 7s 6ms/step - loss: 0.0035\n",
      "Epoch 21/50\n",
      "1198/1198 [==============================] - 7s 6ms/step - loss: 0.0037\n",
      "Epoch 22/50\n",
      "1198/1198 [==============================] - 7s 6ms/step - loss: 0.0036\n",
      "Epoch 23/50\n",
      "1198/1198 [==============================] - 7s 6ms/step - loss: 0.0037\n",
      "Epoch 24/50\n",
      "1198/1198 [==============================] - 7s 6ms/step - loss: 0.0032\n",
      "Epoch 25/50\n",
      "1198/1198 [==============================] - 7s 6ms/step - loss: 0.0034\n",
      "Epoch 26/50\n",
      "1198/1198 [==============================] - 7s 6ms/step - loss: 0.0031\n",
      "Epoch 27/50\n",
      "1198/1198 [==============================] - 7s 6ms/step - loss: 0.0030\n",
      "Epoch 28/50\n",
      "1198/1198 [==============================] - 7s 6ms/step - loss: 0.0030\n",
      "Epoch 29/50\n",
      "1198/1198 [==============================] - 7s 6ms/step - loss: 0.0032\n",
      "Epoch 30/50\n",
      "1198/1198 [==============================] - 7s 6ms/step - loss: 0.0031\n",
      "Epoch 31/50\n",
      "1198/1198 [==============================] - 7s 6ms/step - loss: 0.0032A: 0s - loss: 0\n",
      "Epoch 32/50\n",
      "1198/1198 [==============================] - 7s 6ms/step - loss: 0.0029\n",
      "Epoch 33/50\n",
      "1198/1198 [==============================] - 7s 6ms/step - loss: 0.0028\n",
      "Epoch 34/50\n",
      "1198/1198 [==============================] - 7s 6ms/step - loss: 0.0031\n",
      "Epoch 35/50\n",
      "1198/1198 [==============================] - 7s 6ms/step - loss: 0.0028\n",
      "Epoch 36/50\n",
      "1198/1198 [==============================] - 7s 6ms/step - loss: 0.0029\n",
      "Epoch 37/50\n",
      "1198/1198 [==============================] - 7s 6ms/step - loss: 0.0028\n",
      "Epoch 38/50\n",
      "1198/1198 [==============================] - 7s 6ms/step - loss: 0.0027\n",
      "Epoch 39/50\n",
      "1198/1198 [==============================] - 7s 6ms/step - loss: 0.0029\n",
      "Epoch 40/50\n",
      "1198/1198 [==============================] - 7s 6ms/step - loss: 0.0026\n",
      "Epoch 41/50\n",
      "1198/1198 [==============================] - 7s 6ms/step - loss: 0.0027\n",
      "Epoch 42/50\n",
      "1198/1198 [==============================] - 7s 6ms/step - loss: 0.0026\n",
      "Epoch 43/50\n",
      "1198/1198 [==============================] - 7s 6ms/step - loss: 0.0027\n",
      "Epoch 44/50\n",
      "1198/1198 [==============================] - 7s 6ms/step - loss: 0.0027\n",
      "Epoch 45/50\n",
      "1198/1198 [==============================] - 7s 6ms/step - loss: 0.0024\n",
      "Epoch 46/50\n",
      "1198/1198 [==============================] - 7s 6ms/step - loss: 0.0022\n",
      "Epoch 47/50\n",
      "1198/1198 [==============================] - 7s 6ms/step - loss: 0.0026A: 2s - \n",
      "Epoch 48/50\n",
      "1198/1198 [==============================] - 7s 6ms/step - loss: 0.0023\n",
      "Epoch 49/50\n",
      "1198/1198 [==============================] - 7s 6ms/step - loss: 0.0026A: 1s - loss\n",
      "Epoch 50/50\n",
      "1198/1198 [==============================] - 7s 6ms/step - loss: 0.0024\n"
     ]
    },
    {
     "data": {
      "text/plain": [
       "<keras.callbacks.History at 0x19d4fafeba8>"
      ]
     },
     "execution_count": 15,
     "metadata": {},
     "output_type": "execute_result"
    }
   ],
   "source": [
    "regressor.fit(X_train, y_train, epochs = 50, batch_size = 32)\n",
    "\n"
   ]
  },
  {
   "cell_type": "markdown",
   "metadata": {},
   "source": [
    "### Part 3 - Making the predictions and visualising the results"
   ]
  },
  {
   "cell_type": "code",
   "execution_count": 16,
   "metadata": {},
   "outputs": [],
   "source": [
    "# Getting the real stock price of 2017\n",
    "\n",
    "dataset_test = pd.read_csv('Google_Stock_Price_Test.csv')\n",
    "real_stock_price = dataset_test.iloc[:, 1:2].values\n"
   ]
  },
  {
   "cell_type": "markdown",
   "metadata": {},
   "source": [
    "### Getting the predicted stock price of 2017"
   ]
  },
  {
   "cell_type": "code",
   "execution_count": 17,
   "metadata": {},
   "outputs": [],
   "source": [
    "dataset_total = pd.concat((dataset_train['Open'], dataset_test['Open']), axis = 0)\n",
    "inputs = dataset_total[len(dataset_total) - len(dataset_test) - 60:].values\n",
    "inputs = inputs.reshape(-1,1)\n",
    "inputs = sc.transform(inputs)\n",
    "X_test = []\n",
    "for i in range(60, 80):\n",
    "    X_test.append(inputs[i-60:i, 0])\n",
    "X_test = np.array(X_test)\n",
    "X_test = np.reshape(X_test, (X_test.shape[0], X_test.shape[1], 1))\n",
    "predicted_stock_price = regressor.predict(X_test)\n",
    "predicted_stock_price = sc.inverse_transform(predicted_stock_price)\n",
    "\n"
   ]
  },
  {
   "cell_type": "markdown",
   "metadata": {},
   "source": [
    "### Visualising the results"
   ]
  },
  {
   "cell_type": "code",
   "execution_count": 18,
   "metadata": {},
   "outputs": [
    {
     "data": {
      "image/png": "[encoded data removed]",
      "text/plain": [
       "<Figure size 432x288 with 1 Axes>"
      ]
     },
     "metadata": {
      "needs_background": "light"
     },
     "output_type": "display_data"
    }
   ],
   "source": [
    "plt.plot(real_stock_price, color = 'red', label = 'Real Google Stock Price')\n",
    "plt.plot(predicted_stock_price, color = 'blue', label = 'Predicted Google Stock Price')\n",
    "plt.title('Google Stock Price Prediction')\n",
    "plt.xlabel('Time')\n",
    "plt.ylabel('Google Stock Price')\n",
    "plt.legend()\n",
    "plt.show()\n"
   ]
  },
  {
   "cell_type": "code",
   "execution_count": null,
   "metadata": {},
   "outputs": [],
   "source": []
  }
 ],
 "metadata": {
  "kernelspec": {
   "display_name": "Python 3",
   "language": "python",
   "name": "python3"
  },
  "language_info": {
   "codemirror_mode": {
    "name": "ipython",
    "version": 3
   },
   "file_extension": ".py",
   "mimetype": "text/x-python",
   "name": "python",
   "nbconvert_exporter": "python",
   "pygments_lexer": "ipython3",
   "version": "3.7.3"
  }
 },
 "nbformat": 4,
 "nbformat_minor": 2
}
